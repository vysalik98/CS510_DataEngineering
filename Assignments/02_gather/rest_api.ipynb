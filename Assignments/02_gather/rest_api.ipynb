{
 "cells": [
  {
   "attachments": {},
   "cell_type": "markdown",
   "metadata": {},
   "source": [
    "**Calling the weather API and determining \"Is it raining in Portland, OR?\"**\n"
   ]
  },
  {
   "cell_type": "code",
   "execution_count": 1,
   "metadata": {},
   "outputs": [
    {
     "name": "stdout",
     "output_type": "stream",
     "text": [
      "Current weather conditions in portland: overcast clouds\n"
     ]
    }
   ],
   "source": [
    "import requests\n",
    "\n",
    "api_key = \"4e18319dae9a44b7230b8ef70106cfb1\"\n",
    "base_url = \"http://api.openweathermap.org/data/2.5/weather?\"\n",
    "city_name = input(\"Enter city name : \")\n",
    "complete_url = base_url + \"appid=\" + api_key + \\\n",
    "    \"&q=\" + city_name + \"&units=metric\"\n",
    "response = requests.get(complete_url)\n",
    "x = response.json()\n",
    "if x[\"cod\"] != \"404\":\n",
    "    y = x[\"weather\"][0][\"description\"]\n",
    "    if y in \"rain\":\n",
    "        print(\"It is currently raining in\" + city_name)\n",
    "    else:\n",
    "        print(\"Current weather conditions in \" + city_name + \": \" + y)\n",
    "else:\n",
    "    print(city_name + \" not found\")\n"
   ]
  },
  {
   "attachments": {},
   "cell_type": "markdown",
   "metadata": {},
   "source": [
    "**Calling forecast API to determine \"Will it be raining when our class next meets?”**\n"
   ]
  },
  {
   "cell_type": "code",
   "execution_count": 2,
   "metadata": {},
   "outputs": [
    {
     "name": "stdout",
     "output_type": "stream",
     "text": [
      "Forecast for Monday class between 11 AM and 2 PM (2023-04-17)\n",
      "Time: 11:00:00\n",
      "Weather: light rain\n"
     ]
    }
   ],
   "source": [
    "import requests\n",
    "from datetime import datetime, timedelta\n",
    "\n",
    "api_key = \"4e18319dae9a44b7230b8ef70106cfb1\"\n",
    "endpoint_url = \"http://api.openweathermap.org/data/2.5/forecast\"\n",
    "\n",
    "# Setting up the location and date filters\n",
    "location_filter = {\"q\": \"Portland,US\"}\n",
    "start_date = datetime.now().date()\n",
    "end_date = start_date + timedelta(days=1)\n",
    "\n",
    "# Calling the API and get the response\n",
    "response = requests.get(endpoint_url, params={\n",
    "                        \"appid\": api_key, **location_filter})\n",
    "response.raise_for_status()\n",
    "\n",
    "# Parsing the response and get the forecasts for Monday between 11 AM and 2 PM\n",
    "forecast_data = response.json()[\"list\"]\n",
    "# monday_date = start_date + timedelta(days=2)\n",
    "monday_date = datetime.now().date()\n",
    "while monday_date.weekday() != 0:\n",
    "    monday_date += timedelta(days=1)\n",
    "\n",
    "monday_forecast = [\n",
    "    forecast\n",
    "    for forecast in forecast_data\n",
    "    if datetime.fromtimestamp(forecast[\"dt\"]).date() == monday_date\n",
    "    and 11 <= datetime.fromtimestamp(forecast[\"dt\"]).hour < 14\n",
    "]\n",
    "\n",
    "# Printing the forecasts\n",
    "print(\n",
    "    \"Forecast for Monday class between 11 AM and 2 PM ({})\".format(\n",
    "        monday_date.strftime(\"%Y-%m-%d\")\n",
    "    )\n",
    ")\n",
    "if len(monday_forecast) == 0:\n",
    "    print(\"No forecasts found for the specified time window\")\n",
    "else:\n",
    "    for forecast in monday_forecast:\n",
    "        # Get the forecast time, temperature and weather description\n",
    "        forecast_time = datetime.fromtimestamp(forecast[\"dt\"])\n",
    "        weather_description = forecast[\"weather\"][0][\"description\"]\n",
    "\n",
    "    print(\"Time:\", forecast_time.strftime(\"%H:%M:%S\"))\n",
    "    print(\"Weather:\", weather_description)\n"
   ]
  }
 ],
 "metadata": {
  "kernelspec": {
   "display_name": "Python 3",
   "language": "python",
   "name": "python3"
  },
  "language_info": {
   "codemirror_mode": {
    "name": "ipython",
    "version": 3
   },
   "file_extension": ".py",
   "mimetype": "text/x-python",
   "name": "python",
   "nbconvert_exporter": "python",
   "pygments_lexer": "ipython3",
   "version": "3.10.6"
  },
  "orig_nbformat": 4
 },
 "nbformat": 4,
 "nbformat_minor": 2
}
